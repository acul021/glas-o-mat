{
 "cells": [
  {
   "cell_type": "code",
   "id": "initial_id",
   "metadata": {
    "collapsed": true,
    "ExecuteTime": {
     "end_time": "2024-12-02T16:02:46.133137Z",
     "start_time": "2024-12-02T16:02:46.101886Z"
    }
   },
   "source": [
    "from shapely.geometry import Point\n",
    "import geopandas as gpd\n",
    "\n",
    "# Beispielkoordinate\n",
    "coords = Point(7.706047, 49.474073)  # Koordinaten in (Longitude, Latitude)\n",
    "\n",
    "# Kreis um die Koordinate mit 100 m Radius\n",
    "circle = coords.buffer(0.01)  # 0.001° entspricht ca. 100 m\n",
    "\n",
    "import rasterio\n",
    "from rasterstats import zonal_stats\n",
    "\n",
    "# Rasterdaten laden\n",
    "raster_path = \"/Users/annele/Downloads/deu_pd_2020_1km.tif\"\n",
    "with rasterio.open(raster_path) as src:\n",
    "    stats = zonal_stats(circle, src.read(1), affine=src.transform, stats=\"mean\")\n",
    "print(\"Durchschnittliche Bevölkerungsdichte:\", stats[0]['mean'])\n"
   ],
   "outputs": [
    {
     "name": "stdout",
     "output_type": "stream",
     "text": [
      "Durchschnittliche Bevölkerungsdichte: 410.0841064453125\n"
     ]
    }
   ],
   "execution_count": 5
  },
  {
   "metadata": {
    "ExecuteTime": {
     "end_time": "2024-12-02T16:02:46.218104Z",
     "start_time": "2024-12-02T16:02:46.196824Z"
    }
   },
   "cell_type": "code",
   "source": [
    "from shapely.geometry import Point\n",
    "import geopandas as gpd\n",
    "\n",
    "# Beispielkoordinate\n",
    "coords = Point(7.703491, 49.473861)  # Koordinaten in (Longitude, Latitude)\n",
    "\n",
    "# Kreis um die Koordinate mit 100 m Radius\n",
    "circle = coords.buffer(0.01)  # 0.001° entspricht ca. 1.000 m\n",
    "\n",
    "import rasterio\n",
    "from rasterstats import zonal_stats\n",
    "\n",
    "# Rasterdaten laden\n",
    "raster_path = \"/Users/annele/Downloads/deu_pd_2020_1km.tif\"\n",
    "with rasterio.open(raster_path) as src:\n",
    "    stats = zonal_stats(circle, src.read(1), affine=src.transform, stats=\"mean\")\n",
    "print(\"Durchschnittliche Bevölkerungsdichte:\", stats[0]['mean'])\n"
   ],
   "id": "1770da7191d0bcb8",
   "outputs": [
    {
     "name": "stdout",
     "output_type": "stream",
     "text": [
      "Durchschnittliche Bevölkerungsdichte: 542.0103515625\n"
     ]
    }
   ],
   "execution_count": 6
  },
  {
   "metadata": {},
   "cell_type": "code",
   "outputs": [],
   "execution_count": null,
   "source": "# 186m difference",
   "id": "b67d936896da91c0"
  }
 ],
 "metadata": {
  "kernelspec": {
   "display_name": "Python 3",
   "language": "python",
   "name": "python3"
  },
  "language_info": {
   "codemirror_mode": {
    "name": "ipython",
    "version": 2
   },
   "file_extension": ".py",
   "mimetype": "text/x-python",
   "name": "python",
   "nbconvert_exporter": "python",
   "pygments_lexer": "ipython2",
   "version": "2.7.6"
  }
 },
 "nbformat": 4,
 "nbformat_minor": 5
}
